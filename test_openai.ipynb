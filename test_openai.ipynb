{
 "cells": [
  {
   "cell_type": "code",
   "execution_count": 11,
   "metadata": {},
   "outputs": [],
   "source": [
    "from openai import OpenAI\n",
    "import os\n",
    "\n",
    "client = OpenAI(\n",
    "  organization='org-c7dvGJnfkgmvqXizttGUqcfr',\n",
    "  project='proj_NxEVtMrlIaSr7NWRw6eeqeZB',\n",
    ")\n",
    "\n",
    "model_name = \"gpt-3.5-turbo-0125\"\n",
    "\n",
    "\n",
    "response = client.chat.completions.create(\n",
    "  model=\"gpt-3.5-turbo\",\n",
    "  #prompt=\"Some\",\n",
    "  messages=[{\"role\":\"user\", \"content\":\"help me with this eamil.\"}],\n",
    "  logprobs=True,\n",
    "  max_tokens=5,  # number of token generated. \n",
    "  n=2,  # numer of choice \n",
    "  top_logprobs=4\n",
    ")"
   ]
  },
  {
   "cell_type": "code",
   "execution_count": 44,
   "metadata": {},
   "outputs": [
    {
     "name": "stdout",
     "output_type": "stream",
     "text": [
      "Choice(finish_reason='length', index=0, logprobs=ChoiceLogprobs(content=[ChatCompletionTokenLogprob(token='Of', bytes=[79, 102], logprob=-0.28727853, top_logprobs=[TopLogprob(token='Of', bytes=[79, 102], logprob=-0.28727853)])], refusal=None), message=ChatCompletionMessage(content='Of', role='assistant', function_call=None, tool_calls=None, refusal=None))\n"
     ]
    }
   ],
   "source": [
    "print(response.choices[0])"
   ]
  },
  {
   "cell_type": "code",
   "execution_count": 15,
   "metadata": {},
   "outputs": [
    {
     "name": "stdout",
     "output_type": "stream",
     "text": [
      "Of\n"
     ]
    }
   ],
   "source": [
    "print(response.choices[0].logprobs.content[0].top_logprobs[0].token)"
   ]
  }
 ],
 "metadata": {
  "kernelspec": {
   "display_name": "bdpl",
   "language": "python",
   "name": "python3"
  },
  "language_info": {
   "codemirror_mode": {
    "name": "ipython",
    "version": 3
   },
   "file_extension": ".py",
   "mimetype": "text/x-python",
   "name": "python",
   "nbconvert_exporter": "python",
   "pygments_lexer": "ipython3",
   "version": "3.9.19"
  }
 },
 "nbformat": 4,
 "nbformat_minor": 2
}
