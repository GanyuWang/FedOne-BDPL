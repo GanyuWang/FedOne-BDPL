{
 "cells": [
  {
   "cell_type": "code",
   "execution_count": 2,
   "metadata": {},
   "outputs": [],
   "source": [
    "from openai import OpenAI\n",
    "import os\n",
    "\n",
    "client = OpenAI(\n",
    "  organization='org-c7dvGJnfkgmvqXizttGUqcfr',\n",
    "  project='proj_NxEVtMrlIaSr7NWRw6eeqeZB',\n",
    ")\n",
    "\n",
    "model_name = \"gpt-3.5-turbo-0125\"\n",
    "\n",
    "\n",
    "response = client.chat.completions.create(\n",
    "  model=\"gpt-3.5-turbo\",\n",
    "  #prompt=\"Some\",\n",
    "  messages=[{'role': 'user', 'content': 'about one of , and director movie own does in much up kind was it \\'s plot them in the like a so on very\\t input: splashy and entertainingly nasty  What is the sentiment? \"great\" or \"terrible\"?\\n'}],\n",
    "  logprobs=True,\n",
    "  max_tokens=50,  # number of token generated. \n",
    "  n=2,  # numer of choice \n",
    "  top_logprobs=5\n",
    ")"
   ]
  },
  {
   "cell_type": "code",
   "execution_count": 3,
   "metadata": {},
   "outputs": [
    {
     "name": "stdout",
     "output_type": "stream",
     "text": [
      "The sentiment is \"great\".\n"
     ]
    }
   ],
   "source": [
    "print(response.choices[0].message.content)"
   ]
  },
  {
   "cell_type": "code",
   "execution_count": 7,
   "metadata": {},
   "outputs": [
    {
     "name": "stdout",
     "output_type": "stream",
     "text": [
      "True\n"
     ]
    }
   ],
   "source": [
    "print(\"great\" == response.choices[0].logprobs.content[4].top_logprobs[0].token)"
   ]
  },
  {
   "cell_type": "code",
   "execution_count": null,
   "metadata": {},
   "outputs": [],
   "source": [
    "[{'role': 'user', 'content': 'about one of , and director movie own does in much up kind was it \\'s plot them in the like a so on very\\t input: impenetrable and  What is the sentiment? \"great\" or \"terrible\"?\\n'}]"
   ]
  },
  {
   "cell_type": "code",
   "execution_count": 23,
   "metadata": {},
   "outputs": [],
   "source": [
    "from openai import OpenAI\n",
    "import os\n",
    "\n",
    "client = OpenAI(\n",
    "  organization='org-c7dvGJnfkgmvqXizttGUqcfr',\n",
    "  project='proj_NxEVtMrlIaSr7NWRw6eeqeZB',\n",
    ")\n",
    "\n",
    "model_name = \"gpt-3.5-turbo-0125\"\n",
    "\n",
    "\n",
    "response = client.chat.completions.create(\n",
    "  model=\"gpt-3.5-turbo\",\n",
    "  #prompt=\"Some\",\n",
    "  messages=[{'role': 'user', 'content': 'often us way character love all the fun some best as audience little a movie hard , but people people hollywood a movie kind\\t input: require the patience of job to get through this interminable , shapeless documentary about the swinging subculture  What is the sentiment? \"great\" or \"terrible\"?\\n'}],\n",
    "  logprobs=True,\n",
    "  max_tokens=10,  # number of token generated. \n",
    "  n=2,  # numer of choice \n",
    "  top_logprobs=5\n",
    ")"
   ]
  },
  {
   "cell_type": "code",
   "execution_count": 24,
   "metadata": {},
   "outputs": [
    {
     "name": "stdout",
     "output_type": "stream",
     "text": [
      "\"terrible\"\n"
     ]
    }
   ],
   "source": [
    "print(response.choices[0].message.content)"
   ]
  },
  {
   "cell_type": "code",
   "execution_count": 32,
   "metadata": {},
   "outputs": [
    {
     "name": "stdout",
     "output_type": "stream",
     "text": [
      "'ter'\n"
     ]
    }
   ],
   "source": [
    "print(repr(response.choices[0].logprobs.content[1].top_logprobs[0].token))"
   ]
  },
  {
   "cell_type": "code",
   "execution_count": 29,
   "metadata": {},
   "outputs": [
    {
     "data": {
      "text/plain": [
       "False"
      ]
     },
     "execution_count": 29,
     "metadata": {},
     "output_type": "execute_result"
    }
   ],
   "source": [
    "\" great\".startswith(\"great\")"
   ]
  }
 ],
 "metadata": {
  "kernelspec": {
   "display_name": "bdpl",
   "language": "python",
   "name": "python3"
  },
  "language_info": {
   "codemirror_mode": {
    "name": "ipython",
    "version": 3
   },
   "file_extension": ".py",
   "mimetype": "text/x-python",
   "name": "python",
   "nbconvert_exporter": "python",
   "pygments_lexer": "ipython3",
   "version": "3.9.19"
  }
 },
 "nbformat": 4,
 "nbformat_minor": 2
}
