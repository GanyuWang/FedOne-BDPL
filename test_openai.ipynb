{
 "cells": [
  {
   "cell_type": "code",
   "execution_count": 1,
   "metadata": {},
   "outputs": [],
   "source": [
    "from openai import OpenAI\n",
    "import os\n",
    "\n",
    "client = OpenAI(\n",
    "  organization='org-c7dvGJnfkgmvqXizttGUqcfr',\n",
    "  project='proj_NxEVtMrlIaSr7NWRw6eeqeZB',\n",
    ")\n",
    "\n",
    "model_name = \"gpt-3.5-turbo-0125\"\n",
    "\n",
    "\n",
    "response = client.chat.completions.create(\n",
    "  model=\"gpt-3.5-turbo\",\n",
    "  #prompt=\"Some\",\n",
    "  messages=[{'role': 'user', 'content': \"made made don't to have Which students by kicked likes book left want me could some likes Mary must me eaten\\t input: $100,000 will build a house. correct? yes or no?\\n\"}],\n",
    "  logprobs=True,\n",
    "  max_tokens=50,  # number of token generated. \n",
    "  n=2,  # numer of choice \n",
    "  top_logprobs=5\n",
    ")"
   ]
  },
  {
   "cell_type": "code",
   "execution_count": 2,
   "metadata": {},
   "outputs": [
    {
     "name": "stdout",
     "output_type": "stream",
     "text": [
      "Yes.\n"
     ]
    }
   ],
   "source": [
    "print(response.choices[0].message.content)"
   ]
  },
  {
   "cell_type": "code",
   "execution_count": 7,
   "metadata": {},
   "outputs": [
    {
     "name": "stdout",
     "output_type": "stream",
     "text": [
      "yes\n"
     ]
    }
   ],
   "source": [
    "print(response.choices[0].logprobs.content[0].top_logprobs[0].token.lower())"
   ]
  },
  {
   "cell_type": "code",
   "execution_count": null,
   "metadata": {},
   "outputs": [],
   "source": [
    "[{'role': 'user', 'content': 'about one of , and director movie own does in much up kind was it \\'s plot them in the like a so on very\\t input: impenetrable and  What is the sentiment? \"great\" or \"terrible\"?\\n'}]"
   ]
  }
 ],
 "metadata": {
  "kernelspec": {
   "display_name": "bdpl",
   "language": "python",
   "name": "python3"
  },
  "language_info": {
   "codemirror_mode": {
    "name": "ipython",
    "version": 3
   },
   "file_extension": ".py",
   "mimetype": "text/x-python",
   "name": "python",
   "nbconvert_exporter": "python",
   "pygments_lexer": "ipython3",
   "version": "3.9.19"
  }
 },
 "nbformat": 4,
 "nbformat_minor": 2
}
